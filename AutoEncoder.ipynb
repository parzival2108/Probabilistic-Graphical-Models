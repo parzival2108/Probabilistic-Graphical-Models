{
 "cells": [
  {
   "cell_type": "markdown",
   "id": "5d3be190",
   "metadata": {},
   "source": [
    "# \"Auto-Encoding Variational Bayes\", 2014. https://arxiv.org/abs/1312.6114"
   ]
  },
  {
   "cell_type": "code",
   "execution_count": 19,
   "id": "0174a63d",
   "metadata": {},
   "outputs": [
    {
     "name": "stdout",
     "output_type": "stream",
     "text": [
      "TF version: 2.6.0\n",
      "TFP version: 0.14.0\n"
     ]
    }
   ],
   "source": [
    "from matplotlib.patches import Ellipse\n",
    "import tensorflow as tf\n",
    "import tensorflow_probability as tfp\n",
    "from keras.models import Sequential, Model\n",
    "from tensorflow import keras\n",
    "from keras.layers import Activation, Dense, Flatten,Reshape\n",
    "tfd = tfp.distributions\n",
    "from keras.models import Sequential \n",
    "model = Sequential()\n",
    "from keras import models\n",
    "tfb = tfp.bijectors\n",
    "tfpl = tfp.layers\n",
    "tfb = tfp.bijectors\n",
    "import numpy as np\n",
    "import matplotlib.pyplot as plt \n",
    "print(\"TF version:\", tf.__version__)\n",
    "print(\"TFP version:\", tfp.__version__)"
   ]
  },
  {
   "cell_type": "code",
   "execution_count": 4,
   "id": "bda8155f",
   "metadata": {},
   "outputs": [],
   "source": [
    "(x_train, y_train), (x_test,y_test) = tf.keras.datasets.fashion_mnist.load_data()"
   ]
  },
  {
   "cell_type": "code",
   "execution_count": 5,
   "id": "d38f6130",
   "metadata": {},
   "outputs": [],
   "source": [
    "x_train = x_train.astype(\"float32\")/255"
   ]
  },
  {
   "cell_type": "code",
   "execution_count": 6,
   "id": "069bf572",
   "metadata": {},
   "outputs": [],
   "source": [
    "x_test = x_test.astype(\"float32\")/255"
   ]
  },
  {
   "cell_type": "code",
   "execution_count": 7,
   "id": "8866a808",
   "metadata": {},
   "outputs": [],
   "source": [
    "class_names = np.array([\"T-shirt/top\", \"Trouser/pants\",\n",
    "                       \"Pullover shirt\", \"Dress\", \"Coat\",\n",
    "                       \"Sandal\", \"Shirt\", \"Sneaker\", \n",
    "                       \"Bag\", \"Ankle boot\"])"
   ]
  },
  {
   "cell_type": "code",
   "execution_count": 8,
   "id": "356288ed",
   "metadata": {},
   "outputs": [
    {
     "data": {
      "text/plain": [
       "array(['T-shirt/top', 'Trouser/pants', 'Pullover shirt', 'Dress', 'Coat',\n",
       "       'Sandal', 'Shirt', 'Sneaker', 'Bag', 'Ankle boot'], dtype='<U14')"
      ]
     },
     "execution_count": 8,
     "metadata": {},
     "output_type": "execute_result"
    }
   ],
   "source": [
    "class_names"
   ]
  },
  {
   "cell_type": "markdown",
   "id": "1ed519bb",
   "metadata": {},
   "source": [
    "# Display a few examples"
   ]
  },
  {
   "cell_type": "code",
   "execution_count": 9,
   "id": "8ef7bc17",
   "metadata": {},
   "outputs": [
    {
     "data": {
      "image/png": "[encoded data removed]",
      "text/plain": [
       "<Figure size 1080x288 with 5 Axes>"
      ]
     },
     "metadata": {
      "needs_background": "light"
     },
     "output_type": "display_data"
    }
   ],
   "source": [
    "n_examples = 1000\n",
    "example_images = x_test[0:n_examples]\n",
    "example_labels = y_test[0:n_examples]\n",
    "f, axs = plt.subplots(1,5, figsize = (15,4))\n",
    "for j in range(len(axs)):\n",
    "    axs[j].imshow(example_images[j], cmap = \"binary\")\n",
    "    axs[j].axis(\"off\")"
   ]
  },
  {
   "cell_type": "markdown",
   "id": "b44014da",
   "metadata": {},
   "source": [
    "# Define the encoder\n",
    "- An encoder is a feedforward neural network that with hidden layers that progressively reduce dimensionality.\n",
    "    - our encoding network will map (28,28) network of images to a 2D vector.\n",
    "    - our decoder network will reconstruct this 2D vector to a (28,28) image. \n",
    "    - we will fit the autoencoder by minimising reconstruction error(A discrepency between models input and output)."
   ]
  },
  {
   "cell_type": "code",
   "execution_count": 10,
   "id": "386c7819",
   "metadata": {},
   "outputs": [],
   "source": [
    "encoded_dim = 2\n",
    "encoder = Sequential([\n",
    "    Flatten(input_shape = (28,28)),\n",
    "    Dense(256,activation = \"sigmoid\"),\n",
    "    Dense(64, activation = \"sigmoid\"),\n",
    "    Dense(encoded_dim)\n",
    "])"
   ]
  },
  {
   "cell_type": "code",
   "execution_count": null,
   "id": "5beaa67b",
   "metadata": {},
   "outputs": [],
   "source": []
  },
  {
   "cell_type": "markdown",
   "id": "292fdb7e",
   "metadata": {},
   "source": [
    "# Define a Decoder"
   ]
  },
  {
   "cell_type": "code",
   "execution_count": 11,
   "id": "4cf9074d",
   "metadata": {},
   "outputs": [],
   "source": [
    "decoder = Sequential([\n",
    "    Dense(64, activation = \"sigmoid\",\n",
    "          input_shape = (encoded_dim,)),\n",
    "    Dense(256,activation = \"sigmoid\"),\n",
    "    Dense(28*28,activation = \"sigmoid\"),\n",
    "    Reshape((28,28))\n",
    "])"
   ]
  },
  {
   "cell_type": "markdown",
   "id": "791033cf",
   "metadata": {},
   "source": [
    "# Compile and Fit the model"
   ]
  },
  {
   "cell_type": "code",
   "execution_count": 12,
   "id": "7990057c",
   "metadata": {},
   "outputs": [],
   "source": [
    "autoencoder = Model(inputs = encoder.inputs, \n",
    "                   outputs = decoder(encoder.outputs))\n",
    "\n",
    "\n"
   ]
  },
  {
   "cell_type": "markdown",
   "id": "aa0d8c73",
   "metadata": {},
   "source": [
    "# Specify a loss"
   ]
  },
  {
   "cell_type": "code",
   "execution_count": 13,
   "id": "672adbd2",
   "metadata": {},
   "outputs": [],
   "source": [
    "autoencoder.compile(loss = 'binary_crossentropy')"
   ]
  },
  {
   "cell_type": "markdown",
   "id": "093561bf",
   "metadata": {},
   "source": [
    "# Fit the model"
   ]
  },
  {
   "cell_type": "code",
   "execution_count": 14,
   "id": "128e2dec",
   "metadata": {},
   "outputs": [
    {
     "name": "stdout",
     "output_type": "stream",
     "text": [
      "Epoch 1/12\n",
      "1200/1200 [==============================] - 5s 4ms/step - loss: 0.4050\n",
      "Epoch 2/12\n",
      "1200/1200 [==============================] - 5s 4ms/step - loss: 0.3474\n",
      "Epoch 3/12\n",
      "1200/1200 [==============================] - 5s 4ms/step - loss: 0.3385\n",
      "Epoch 4/12\n",
      "1200/1200 [==============================] - 5s 4ms/step - loss: 0.3336\n",
      "Epoch 5/12\n",
      "1200/1200 [==============================] - 5s 4ms/step - loss: 0.3306\n",
      "Epoch 6/12\n",
      "1200/1200 [==============================] - 6s 5ms/step - loss: 0.3283\n",
      "Epoch 7/12\n",
      "1200/1200 [==============================] - 6s 5ms/step - loss: 0.3264\n",
      "Epoch 8/12\n",
      "1200/1200 [==============================] - 6s 5ms/step - loss: 0.3248\n",
      "Epoch 9/12\n",
      "1200/1200 [==============================] - 6s 5ms/step - loss: 0.3235\n",
      "Epoch 10/12\n",
      "1200/1200 [==============================] - 6s 5ms/step - loss: 0.3224\n",
      "Epoch 11/12\n",
      "1200/1200 [==============================] - 6s 5ms/step - loss: 0.3216\n",
      "Epoch 12/12\n",
      "1200/1200 [==============================] - 5s 5ms/step - loss: 0.3209\n"
     ]
    },
    {
     "data": {
      "text/plain": [
       "<keras.callbacks.History at 0x7fa80fbffd50>"
      ]
     },
     "execution_count": 14,
     "metadata": {},
     "output_type": "execute_result"
    }
   ],
   "source": [
    "autoencoder.fit(x= x_train, y = x_train, epochs=12, \n",
    "               batch_size = 50)"
   ]
  },
  {
   "cell_type": "markdown",
   "id": "707e50f0",
   "metadata": {},
   "source": [
    "# Compute the autoencoder's reconstructions"
   ]
  },
  {
   "cell_type": "code",
   "execution_count": 18,
   "id": "9055af4b",
   "metadata": {},
   "outputs": [],
   "source": [
    "reconstructed_example_images = autoencoder(example_images)"
   ]
  },
  {
   "cell_type": "markdown",
   "id": "10416e65",
   "metadata": {},
   "source": [
    "# Evaluate AutoEncoders Reconstruction"
   ]
  },
  {
   "cell_type": "code",
   "execution_count": 16,
   "id": "c10fc30d",
   "metadata": {},
   "outputs": [
    {
     "data": {
      "image/png": "[encoded data removed]",
      "text/plain": [
       "<Figure size 1080x288 with 8 Axes>"
      ]
     },
     "metadata": {
      "needs_background": "light"
     },
     "output_type": "display_data"
    }
   ],
   "source": [
    "\n",
    "f, axs = plt.subplots(2,4, figsize = (15,4))\n",
    "for j in range(4):\n",
    "    axs[0,j].imshow(example_images[j], cmap = \"binary\")\n",
    "    axs[1,j].imshow(reconstructed_example_images[j].numpy().squeeze(), cmap = \"binary\")\n",
    "    axs[0,j].axis(\"off\")\n",
    "    axs[1,j].axis(\"off\")\n",
    "    \n",
    "    \n"
   ]
  },
  {
   "cell_type": "markdown",
   "id": "7b2691a9",
   "metadata": {},
   "source": [
    "# Objective Function in VAE is ELBO(Evidence Lower Bound)\n",
    "- objective function can be written as sum of two terms\n",
    "    - Expected Reconstruction Loss\n",
    "    - KL divergence from prior distribution to posterior (KL divergence is a measure of discrepency between this two distributions).\n",
    "    \n",
    "- How can a KL divergence be computed between two distribution objects?\n",
    "- Howw can a KL divergence be used as an objective function to optimize parameters of a distribution in order to minimize the discrepency between it and the target distribution. "
   ]
  },
  {
   "cell_type": "code",
   "execution_count": 17,
   "id": "06b38959",
   "metadata": {},
   "outputs": [
    {
     "data": {
      "text/plain": [
       "<tf.Tensor: shape=(2, 2), dtype=float32, numpy=\n",
       "array([[1.3132716, 0.       ],\n",
       "       [1.25     , 0.474087 ]], dtype=float32)>"
      ]
     },
     "execution_count": 17,
     "metadata": {},
     "output_type": "execute_result"
    }
   ],
   "source": [
    "scale_tril = tfb.FillScaleTriL()([-0.5,1.25, 1.])\n",
    "scale_tril"
   ]
  },
  {
   "cell_type": "code",
   "execution_count": 102,
   "id": "76f95c71",
   "metadata": {},
   "outputs": [],
   "source": [
    "p = tfd.MultivariateNormalTriL(loc = 0, scale_tril=scale_tril)"
   ]
  },
  {
   "cell_type": "code",
   "execution_count": 103,
   "id": "25b7c627",
   "metadata": {},
   "outputs": [
    {
     "data": {
      "text/plain": [
       "<tfp.distributions.MultivariateNormalTriL 'MultivariateNormalTriL' batch_shape=[] event_shape=[2] dtype=float32>"
      ]
     },
     "execution_count": 103,
     "metadata": {},
     "output_type": "execute_result"
    }
   ],
   "source": [
    "p"
   ]
  },
  {
   "cell_type": "code",
   "execution_count": 104,
   "id": "76f7ecc4",
   "metadata": {},
   "outputs": [],
   "source": [
    "q = tfd.MultivariateNormalDiag(loc = [0.,0.])\n"
   ]
  },
  {
   "cell_type": "code",
   "execution_count": 105,
   "id": "9390b681",
   "metadata": {},
   "outputs": [
    {
     "data": {
      "text/plain": [
       "<tf.Tensor: shape=(), dtype=float32, numpy=3.0560925>"
      ]
     },
     "execution_count": 105,
     "metadata": {},
     "output_type": "execute_result"
    }
   ],
   "source": [
    "tfd.kl_divergence(q,p)"
   ]
  },
  {
   "cell_type": "code",
   "execution_count": null,
   "id": "59c02b21",
   "metadata": {},
   "outputs": [],
   "source": []
  }
 ],
 "metadata": {
  "kernelspec": {
   "display_name": "Python 3",
   "language": "python",
   "name": "python3"
  },
  "language_info": {
   "codemirror_mode": {
    "name": "ipython",
    "version": 3
   },
   "file_extension": ".py",
   "mimetype": "text/x-python",
   "name": "python",
   "nbconvert_exporter": "python",
   "pygments_lexer": "ipython3",
   "version": "3.7.11"
  }
 },
 "nbformat": 4,
 "nbformat_minor": 5
}
