{
 "cells": [
  {
   "cell_type": "markdown",
   "id": "70073e53",
   "metadata": {},
   "source": [
    "# Bijectors are used to transform tensor objects"
   ]
  },
  {
   "cell_type": "code",
   "execution_count": 1,
   "id": "b4bd39ab",
   "metadata": {},
   "outputs": [],
   "source": [
    "import tensorflow as tf\n",
    "import tensorflow_probability as tfp\n",
    "from keras.models import Sequential, Model\n",
    "from tensorflow import keras\n",
    "from keras.layers import Activation, Dense, Flatten,Reshape\n",
    "tfd = tfp.distributions\n",
    "from keras.models import Sequential \n",
    "from tensorflow.keras.losses import MeanSquaredError\n",
    "from tensorflow.keras.optimizers import RMSprop\n",
    "from keras import models\n",
    "tfb = tfp.bijectors\n",
    "tfpl = tfp.layers\n",
    "tfb = tfp.bijectors\n",
    "import numpy as np\n",
    "import matplotlib.pyplot as plt "
   ]
  },
  {
   "cell_type": "markdown",
   "id": "56f59ba0",
   "metadata": {},
   "source": [
    "# multiplication and inversion bijector"
   ]
  },
  {
   "cell_type": "code",
   "execution_count": 9,
   "id": "11bf01b9",
   "metadata": {},
   "outputs": [],
   "source": [
    "z = tf.constant([1.,2.,3.])"
   ]
  },
  {
   "cell_type": "code",
   "execution_count": 10,
   "id": "c6de74f2",
   "metadata": {},
   "outputs": [],
   "source": [
    "scale = tfb.Scale(2)"
   ]
  },
  {
   "cell_type": "code",
   "execution_count": 11,
   "id": "bb29941b",
   "metadata": {},
   "outputs": [],
   "source": [
    "x = scale.forward(z)"
   ]
  },
  {
   "cell_type": "code",
   "execution_count": 14,
   "id": "dc56ccc7",
   "metadata": {},
   "outputs": [],
   "source": [
    "inversed = scale.inverse(tf.constant([5.,3.,1.]))\n"
   ]
  },
  {
   "cell_type": "code",
   "execution_count": 16,
   "id": "e6d8e4d5",
   "metadata": {},
   "outputs": [
    {
     "name": "stdout",
     "output_type": "stream",
     "text": [
      "tf.Tensor([2.5 1.5 0.5], shape=(3,), dtype=float32)\n"
     ]
    }
   ],
   "source": [
    "print(inversed)"
   ]
  },
  {
   "cell_type": "markdown",
   "id": "1227cb19",
   "metadata": {},
   "source": [
    "# scale_and_shift bijector"
   ]
  },
  {
   "cell_type": "code",
   "execution_count": 18,
   "id": "17ceb7c2",
   "metadata": {},
   "outputs": [],
   "source": [
    "scale = tfb.Scale(2.)\n",
    "shift = tfb.Shift(1.)"
   ]
  },
  {
   "cell_type": "code",
   "execution_count": 19,
   "id": "bc0edfbb",
   "metadata": {},
   "outputs": [],
   "source": [
    "scale_and_shift = tfb.Chain([shift,scale])"
   ]
  },
  {
   "cell_type": "code",
   "execution_count": 21,
   "id": "b40f7c05",
   "metadata": {},
   "outputs": [
    {
     "data": {
      "text/plain": [
       "<tf.Tensor: shape=(3,), dtype=float32, numpy=array([3., 5., 7.], dtype=float32)>"
      ]
     },
     "execution_count": 21,
     "metadata": {},
     "output_type": "execute_result"
    }
   ],
   "source": [
    "scale_and_shift.forward(z)"
   ]
  },
  {
   "cell_type": "code",
   "execution_count": 22,
   "id": "4549ed08",
   "metadata": {},
   "outputs": [
    {
     "data": {
      "text/plain": [
       "<tf.Tensor: shape=(3,), dtype=float32, numpy=array([0.5, 2. , 3.5], dtype=float32)>"
      ]
     },
     "execution_count": 22,
     "metadata": {},
     "output_type": "execute_result"
    }
   ],
   "source": [
    "scale_and_shift.inverse(tf.constant([2.,5.,8.]))"
   ]
  },
  {
   "cell_type": "code",
   "execution_count": null,
   "id": "ac69f424",
   "metadata": {},
   "outputs": [],
   "source": []
  }
 ],
 "metadata": {
  "kernelspec": {
   "display_name": "Python 3",
   "language": "python",
   "name": "python3"
  },
  "language_info": {
   "codemirror_mode": {
    "name": "ipython",
    "version": 3
   },
   "file_extension": ".py",
   "mimetype": "text/x-python",
   "name": "python",
   "nbconvert_exporter": "python",
   "pygments_lexer": "ipython3",
   "version": "3.7.11"
  }
 },
 "nbformat": 4,
 "nbformat_minor": 5
}
