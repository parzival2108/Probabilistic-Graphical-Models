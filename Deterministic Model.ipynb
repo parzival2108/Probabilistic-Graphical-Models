{
 "cells": [
  {
   "cell_type": "code",
   "execution_count": 1,
   "id": "14bc3b39",
   "metadata": {},
   "outputs": [],
   "source": [
    "import tensorflow as tf\n",
    "import tensorflow_probability as tfp\n",
    "from keras.models import Sequential, Model\n",
    "from tensorflow import keras\n",
    "from keras.layers import Activation, Dense, Flatten,Reshape\n",
    "tfd = tfp.distributions\n",
    "from keras.models import Sequential \n",
    "model = Sequential()\n",
    "from keras import models\n",
    "tfb = tfp.bijectors\n",
    "\n",
    "tfpl = tfp.layers\n",
    "tfb = tfp.bijectors\n",
    "\n",
    "import numpy as np\n",
    "import matplotlib.pyplot as plt "
   ]
  },
  {
   "cell_type": "code",
   "execution_count": 22,
   "id": "c5874a5c",
   "metadata": {},
   "outputs": [],
   "source": [
    "model = Sequential([\n",
    "    Dense(input_shape =(1,), units = 1, activation = \"sigmoid\"),\n",
    "#           kernel_initializer = tf.constant_initializer(1))\n",
    "          #bias_initializer = tf.constant_initializer(0)),\n",
    "])\n"
   ]
  },
  {
   "cell_type": "code",
   "execution_count": 23,
   "id": "42a038ee",
   "metadata": {},
   "outputs": [
    {
     "data": {
      "image/png": "[encoded data removed]",
      "text/plain": [
       "<Figure size 432x288 with 1 Axes>"
      ]
     },
     "metadata": {
      "needs_background": "light"
     },
     "output_type": "display_data"
    }
   ],
   "source": [
    "x_plot = np.linspace(-5,5, 100)\n",
    "plt.scatter(x_plot, model.predict(x_plot), alpha = 0.4)\n",
    "plt.plot(x_plot, 1/(1+np.exp(-x_plot)), color = 'r', alpha = 0.8)\n",
    "plt.show()"
   ]
  },
  {
   "cell_type": "code",
   "execution_count": 24,
   "id": "4966d74d",
   "metadata": {},
   "outputs": [
    {
     "data": {
      "text/plain": [
       "array([[0]])"
      ]
     },
     "execution_count": 24,
     "metadata": {},
     "output_type": "execute_result"
    }
   ],
   "source": [
    "x = np.array([[0]])\n",
    "\n",
    "x"
   ]
  },
  {
   "cell_type": "code",
   "execution_count": null,
   "id": "df3f9189",
   "metadata": {},
   "outputs": [],
   "source": []
  },
  {
   "cell_type": "code",
   "execution_count": 25,
   "id": "d1fa51e5",
   "metadata": {},
   "outputs": [],
   "source": [
    "y_model = model(x)"
   ]
  },
  {
   "cell_type": "code",
   "execution_count": 26,
   "id": "5291a6b5",
   "metadata": {},
   "outputs": [
    {
     "data": {
      "text/plain": [
       "<tf.Tensor: shape=(1, 1), dtype=float32, numpy=array([[0.5]], dtype=float32)>"
      ]
     },
     "execution_count": 26,
     "metadata": {},
     "output_type": "execute_result"
    }
   ],
   "source": [
    "\n",
    "y_model"
   ]
  },
  {
   "cell_type": "code",
   "execution_count": null,
   "id": "26af9a0d",
   "metadata": {},
   "outputs": [],
   "source": []
  }
 ],
 "metadata": {
  "kernelspec": {
   "display_name": "Python 3",
   "language": "python",
   "name": "python3"
  },
  "language_info": {
   "codemirror_mode": {
    "name": "ipython",
    "version": 3
   },
   "file_extension": ".py",
   "mimetype": "text/x-python",
   "name": "python",
   "nbconvert_exporter": "python",
   "pygments_lexer": "ipython3",
   "version": "3.7.11"
  }
 },
 "nbformat": 4,
 "nbformat_minor": 5
}
